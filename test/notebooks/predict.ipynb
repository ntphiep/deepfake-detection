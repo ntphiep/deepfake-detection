{
  "cells": [
    {
      "cell_type": "code",
      "execution_count": null,
      "metadata": {
        "colab": {
          "base_uri": "https://localhost:8080/"
        },
        "id": "xIMZRhY9n2Ij",
        "outputId": "a3175d8d-e805-4a6f-a6cf-5480fb37accc"
      },
      "outputs": [
        {
          "name": "stdout",
          "output_type": "stream",
          "text": [
            "Mounted at /content/drive\n"
          ]
        }
      ],
      "source": [
        "from google.colab import drive\n",
        "drive.mount('/content/drive')"
      ]
    },
    {
      "cell_type": "code",
      "execution_count": null,
      "metadata": {
        "colab": {
          "base_uri": "https://localhost:8080/"
        },
        "id": "F0uO5Crgn5n7",
        "outputId": "8cb388a6-40a4-49a8-b16c-fdd1fac40350"
      },
      "outputs": [
        {
          "name": "stdout",
          "output_type": "stream",
          "text": [
            "Collecting face_recognition\n",
            "  Downloading face_recognition-1.3.0-py2.py3-none-any.whl (15 kB)\n",
            "Requirement already satisfied: torch in /usr/local/lib/python3.10/dist-packages (2.3.1+cu121)\n",
            "Requirement already satisfied: torchvision in /usr/local/lib/python3.10/dist-packages (0.18.1+cu121)\n",
            "Collecting face-recognition-models>=0.3.0 (from face_recognition)\n",
            "  Downloading face_recognition_models-0.3.0.tar.gz (100.1 MB)\n",
            "\u001b[2K     \u001b[90m━━━━━━━━━━━━━━━━━━━━━━━━━━━━━━━━━━━━━━━━\u001b[0m \u001b[32m100.1/100.1 MB\u001b[0m \u001b[31m7.8 MB/s\u001b[0m eta \u001b[36m0:00:00\u001b[0m\n",
            "\u001b[?25h  Preparing metadata (setup.py) ... \u001b[?25l\u001b[?25hdone\n",
            "Requirement already satisfied: Click>=6.0 in /usr/local/lib/python3.10/dist-packages (from face_recognition) (8.1.7)\n",
            "Requirement already satisfied: dlib>=19.7 in /usr/local/lib/python3.10/dist-packages (from face_recognition) (19.24.4)\n",
            "Requirement already satisfied: numpy in /usr/local/lib/python3.10/dist-packages (from face_recognition) (1.25.2)\n",
            "Requirement already satisfied: Pillow in /usr/local/lib/python3.10/dist-packages (from face_recognition) (9.4.0)\n",
            "Requirement already satisfied: filelock in /usr/local/lib/python3.10/dist-packages (from torch) (3.15.4)\n",
            "Requirement already satisfied: typing-extensions>=4.8.0 in /usr/local/lib/python3.10/dist-packages (from torch) (4.12.2)\n",
            "Requirement already satisfied: sympy in /usr/local/lib/python3.10/dist-packages (from torch) (1.13.0)\n",
            "Requirement already satisfied: networkx in /usr/local/lib/python3.10/dist-packages (from torch) (3.3)\n",
            "Requirement already satisfied: jinja2 in /usr/local/lib/python3.10/dist-packages (from torch) (3.1.4)\n",
            "Requirement already satisfied: fsspec in /usr/local/lib/python3.10/dist-packages (from torch) (2023.6.0)\n",
            "Collecting nvidia-cuda-nvrtc-cu12==12.1.105 (from torch)\n",
            "  Using cached nvidia_cuda_nvrtc_cu12-12.1.105-py3-none-manylinux1_x86_64.whl (23.7 MB)\n",
            "Collecting nvidia-cuda-runtime-cu12==12.1.105 (from torch)\n",
            "  Using cached nvidia_cuda_runtime_cu12-12.1.105-py3-none-manylinux1_x86_64.whl (823 kB)\n",
            "Collecting nvidia-cuda-cupti-cu12==12.1.105 (from torch)\n",
            "  Using cached nvidia_cuda_cupti_cu12-12.1.105-py3-none-manylinux1_x86_64.whl (14.1 MB)\n",
            "Collecting nvidia-cudnn-cu12==8.9.2.26 (from torch)\n",
            "  Using cached nvidia_cudnn_cu12-8.9.2.26-py3-none-manylinux1_x86_64.whl (731.7 MB)\n",
            "Collecting nvidia-cublas-cu12==12.1.3.1 (from torch)\n",
            "  Using cached nvidia_cublas_cu12-12.1.3.1-py3-none-manylinux1_x86_64.whl (410.6 MB)\n",
            "Collecting nvidia-cufft-cu12==11.0.2.54 (from torch)\n",
            "  Using cached nvidia_cufft_cu12-11.0.2.54-py3-none-manylinux1_x86_64.whl (121.6 MB)\n",
            "Collecting nvidia-curand-cu12==10.3.2.106 (from torch)\n",
            "  Using cached nvidia_curand_cu12-10.3.2.106-py3-none-manylinux1_x86_64.whl (56.5 MB)\n",
            "Collecting nvidia-cusolver-cu12==11.4.5.107 (from torch)\n",
            "  Using cached nvidia_cusolver_cu12-11.4.5.107-py3-none-manylinux1_x86_64.whl (124.2 MB)\n",
            "Collecting nvidia-cusparse-cu12==12.1.0.106 (from torch)\n",
            "  Using cached nvidia_cusparse_cu12-12.1.0.106-py3-none-manylinux1_x86_64.whl (196.0 MB)\n",
            "Collecting nvidia-nccl-cu12==2.20.5 (from torch)\n",
            "  Using cached nvidia_nccl_cu12-2.20.5-py3-none-manylinux2014_x86_64.whl (176.2 MB)\n",
            "Collecting nvidia-nvtx-cu12==12.1.105 (from torch)\n",
            "  Using cached nvidia_nvtx_cu12-12.1.105-py3-none-manylinux1_x86_64.whl (99 kB)\n",
            "Requirement already satisfied: triton==2.3.1 in /usr/local/lib/python3.10/dist-packages (from torch) (2.3.1)\n",
            "Collecting nvidia-nvjitlink-cu12 (from nvidia-cusolver-cu12==11.4.5.107->torch)\n",
            "  Downloading nvidia_nvjitlink_cu12-12.5.82-py3-none-manylinux2014_x86_64.whl (21.3 MB)\n",
            "\u001b[2K     \u001b[90m━━━━━━━━━━━━━━━━━━━━━━━━━━━━━━━━━━━━━━━━\u001b[0m \u001b[32m21.3/21.3 MB\u001b[0m \u001b[31m62.5 MB/s\u001b[0m eta \u001b[36m0:00:00\u001b[0m\n",
            "\u001b[?25hRequirement already satisfied: MarkupSafe>=2.0 in /usr/local/lib/python3.10/dist-packages (from jinja2->torch) (2.1.5)\n",
            "Requirement already satisfied: mpmath<1.4,>=1.1.0 in /usr/local/lib/python3.10/dist-packages (from sympy->torch) (1.3.0)\n",
            "Building wheels for collected packages: face-recognition-models\n",
            "  Building wheel for face-recognition-models (setup.py) ... \u001b[?25l\u001b[?25hdone\n",
            "  Created wheel for face-recognition-models: filename=face_recognition_models-0.3.0-py2.py3-none-any.whl size=100566170 sha256=f3d5f5e94a357717be6ca740ce6ef647275030d07cafb99c18c8b5ac5faa4cac\n",
            "  Stored in directory: /root/.cache/pip/wheels/7a/eb/cf/e9eced74122b679557f597bb7c8e4c739cfcac526db1fd523d\n",
            "Successfully built face-recognition-models\n",
            "Installing collected packages: face-recognition-models, nvidia-nvtx-cu12, nvidia-nvjitlink-cu12, nvidia-nccl-cu12, nvidia-curand-cu12, nvidia-cufft-cu12, nvidia-cuda-runtime-cu12, nvidia-cuda-nvrtc-cu12, nvidia-cuda-cupti-cu12, nvidia-cublas-cu12, face_recognition, nvidia-cusparse-cu12, nvidia-cudnn-cu12, nvidia-cusolver-cu12\n",
            "Successfully installed face-recognition-models-0.3.0 face_recognition-1.3.0 nvidia-cublas-cu12-12.1.3.1 nvidia-cuda-cupti-cu12-12.1.105 nvidia-cuda-nvrtc-cu12-12.1.105 nvidia-cuda-runtime-cu12-12.1.105 nvidia-cudnn-cu12-8.9.2.26 nvidia-cufft-cu12-11.0.2.54 nvidia-curand-cu12-10.3.2.106 nvidia-cusolver-cu12-11.4.5.107 nvidia-cusparse-cu12-12.1.0.106 nvidia-nccl-cu12-2.20.5 nvidia-nvjitlink-cu12-12.5.82 nvidia-nvtx-cu12-12.1.105\n"
          ]
        }
      ],
      "source": [
        "!pip install face_recognition torch torchvision"
      ]
    },
    {
      "cell_type": "code",
      "execution_count": null,
      "metadata": {
        "id": "XW5NYZ0PoGSq"
      },
      "outputs": [],
      "source": [
        "import torch\n",
        "import torchvision\n",
        "from torchvision import transforms\n",
        "from torch.utils.data import DataLoader\n",
        "from torch.utils.data.dataset import Dataset\n",
        "\n",
        "import os\n",
        "import numpy as np\n",
        "import cv2\n",
        "import sys\n",
        "import matplotlib.pyplot as plt\n",
        "import face_recognition\n",
        "import time"
      ]
    },
    {
      "cell_type": "code",
      "execution_count": null,
      "metadata": {
        "id": "wOPu-j-koSiG"
      },
      "outputs": [],
      "source": [
        "#Model with feature visualization\n",
        "\n",
        "from torch import nn\n",
        "from torchvision import models\n",
        "\n",
        "class Model(nn.Module):\n",
        "    def __init__(self, num_classes, latent_dim=2048, lstm_layers=1, hidden_dim=2048, bidirectional=False):\n",
        "        super(Model, self).__init__()\n",
        "        model = models.resnext50_32x4d(pretrained=True)   #ResNext model\n",
        "        self.model = nn.Sequential(*list(model.children())[: -2])\n",
        "        self.lstm = nn.LSTM(latent_dim, hidden_dim, lstm_layers, bidirectional)\n",
        "        self.relu = nn.LeakyReLU()\n",
        "        self.dp = nn.Dropout(0.4)\n",
        "        self.linear1 = nn.Linear(2048, num_classes)\n",
        "        self.avgpool = nn.AdaptiveAvgPool2d(1)\n",
        "\n",
        "    def forward(self, x):\n",
        "        batch_size, seq_length, c, h, w = x.shape\n",
        "        x = x.view(batch_size * seq_length, c, h, w)\n",
        "        fmap = self.model(x)\n",
        "        x = self.avgpool(fmap)\n",
        "        x = x.view(batch_size, seq_length, 2048)\n",
        "        x_lstm, _ = self.lstm(x, None)\n",
        "        return fmap, self.dp(self.linear1(x_lstm[:, -1, :]))"
      ]
    },
    {
      "cell_type": "code",
      "execution_count": null,
      "metadata": {
        "id": "HRD3w3Teoc2w"
      },
      "outputs": [],
      "source": [
        "im_size = 112\n",
        "mean = [0.485, 0.456, 0.406]\n",
        "std = [0.229, 0.224, 0.225]\n",
        "\n",
        "inv_normalize =  transforms.Normalize(mean=-1 * np.divide(mean, std), \n",
        "                                      std=np.divide([1, 1, 1], std))\n",
        "\n",
        "def im_convert(tensor):\n",
        "    \"\"\" Display a tensor as an image. \"\"\"\n",
        "    image = tensor.to(\"cpu\").clone().detach()\n",
        "    image = image.squeeze()\n",
        "    image = inv_normalize(image)\n",
        "    image = image.numpy().transpose(1, 2, 0).clip(0, 1)\n",
        "    cv2.imwrite('./2.png', image * 255)\n",
        "    return image\n",
        "\n",
        "def predict(model, img):\n",
        "    sm = nn.Softmax()\n",
        "    fmap, logits = model(img.to('cuda'))\n",
        "    weight_softmax = model.linear1.weight.detach().cpu().numpy()\n",
        "    logits = sm.(logits)\n",
        "    _,prediction = torch.max(logits, 1)\n",
        "    confidence = logits[:, int(prediction.item())].item() * 100\n",
        "    print('Confidence of prediction:', logits[:, int(prediction.item())].item() * 100)\n",
        "    \n",
        "    idx = np.argmax(logits.detach().cpu().numpy())\n",
        "    _, nc, h, w = fmap.shape\n",
        "    out = np.dot(fmap[-1].detach().cpu().numpy().reshape((nc, h*w)).T, weight_softmax[idx, :].T)\n",
        "    \n",
        "    predict = out.reshape(h, w)\n",
        "    predict = predict - np.min(predict)\n",
        "    predict_img = predict / np.max(predict)\n",
        "    predict_img = np.uint8(255 * predict_img)\n",
        "    \n",
        "    out = cv2.resize(predict_img, (im_size, im_size))\n",
        "    heatmap = cv2.applyColorMap(out, cv2.COLORMAP_JET)\n",
        "    img = im_convert(img[:, -1, :, :, :])\n",
        "    \n",
        "    result = heatmap * 0.5 + img * 0.8 * 255\n",
        "    \n",
        "    cv2.imwrite('/content/1.png', result)\n",
        "    result = heatmap * 0.5 / 255 + img * 0.8\n",
        "    result = cv2.merge((cv2.split(result)))\n",
        "    \n",
        "    plt.imshow(result)\n",
        "    plt.show()\n",
        "    return [int(prediction.item()), confidence]\n",
        "\n",
        "\n",
        "#img = train_data[100][0].unsqueeze(0)\n",
        "#predict(model,img)"
      ]
    },
    {
      "cell_type": "code",
      "execution_count": null,
      "metadata": {
        "id": "6jO8mHfZpAYl"
      },
      "outputs": [],
      "source": [
        "import torch\n",
        "import torchvision\n",
        "from torchvision import transforms\n",
        "from torch.utils.data import DataLoader\n",
        "from torch.utils.data.dataset import Dataset\n",
        "import os\n",
        "import numpy as np\n",
        "import cv2\n",
        "import matplotlib.pyplot as plt\n",
        "import face_recognition\n",
        "\n",
        "\n",
        "class validation_dataset(Dataset):\n",
        "    def __init__(self, video_names, sequence_length=60, transform=None):\n",
        "        self.video_names = video_names\n",
        "        self.transform = transform\n",
        "        self.count = sequence_length\n",
        "\n",
        "    def __len__(self):\n",
        "        return len(self.video_names)\n",
        "\n",
        "    def __getitem__(self, idx):\n",
        "        video_path = self.video_names[idx]\n",
        "        frames = []\n",
        "        # a = int(100/self.count)\n",
        "        # first_frame = np.random.randint(0, a)\n",
        "\n",
        "        for _, frame in enumerate(self.frame_extract(video_path)):\n",
        "            # if(i % a == first_frame):\n",
        "            faces = face_recognition.face_locations(frame)\n",
        "            try:\n",
        "                top, right, bottom, left = faces[0]\n",
        "                frame = frame[top:bottom, left:right, :]\n",
        "\n",
        "            except: pass\n",
        "\n",
        "            frames.append(self.transform(frame))\n",
        "            if(len(frames) == self.count): break\n",
        "\n",
        "        #print(\"no of frames\",len(frames))\n",
        "        frames = torch.stack(frames)\n",
        "        frames = frames[:self.count]\n",
        "        return frames.unsqueeze(0)\n",
        "\n",
        "    def frame_extract(self,path):\n",
        "        vidObj = cv2.VideoCapture(path)\n",
        "        success = 1\n",
        "        while success:\n",
        "            success, image = vidObj.read()\n",
        "            if success: yield image\n",
        "\n",
        "def im_plot(tensor):\n",
        "    image = tensor.cpu().numpy().transpose(1, 2, 0)\n",
        "    b, g, r = cv2.split(image)\n",
        "    image = cv2.merge((r,g,b))\n",
        "    image = image * [0.22803, 0.22145, 0.216989] + [0.43216, 0.394666, 0.37645]\n",
        "    image = image * 255.0\n",
        "    plt.imshow(image.astype(int))\n",
        "    plt.show()"
      ]
    },
    {
      "cell_type": "code",
      "execution_count": null,
      "metadata": {
        "colab": {
          "base_uri": "https://localhost:8080/"
        },
        "id": "JbLR_MCd6h-Q",
        "outputId": "52ae22ba-4289-482a-81ea-e9d418a4fc87"
      },
      "outputs": [
        {
          "name": "stdout",
          "output_type": "stream",
          "text": [
            "total 1439\n",
            "-rw------- 1 root root 182643 Dec 31  1979 id61_id5_0006.mp4\n",
            "-rw------- 1 root root 217115 Dec 31  1979 id61_id5_0009.mp4\n",
            "-rw------- 1 root root 176479 Dec 31  1979 id61_id59_0006.mp4\n",
            "-rw------- 1 root root 181879 Dec 31  1979 id61_id60_0000.mp4\n",
            "-rw------- 1 root root 173897 Dec 31  1979 id61_id60_0002.mp4\n",
            "-rw------- 1 root root 165598 Dec 31  1979 id61_id60_0005.mp4\n",
            "-rw------- 1 root root 172148 Dec 31  1979 id61_id60_0006.mp4\n",
            "-rw------- 1 root root 201229 Dec 31  1979 id61_id60_0009.mp4\n"
          ]
        }
      ],
      "source": [
        "!ls -la ./drive/MyDrive/FAKE_videos"
      ]
    },
    {
      "cell_type": "code",
      "execution_count": null,
      "metadata": {
        "colab": {
          "base_uri": "https://localhost:8080/",
          "height": 638
        },
        "id": "_cSFzar_pY0F",
        "outputId": "51d876e2-49fc-443e-9fdb-8a712017b356"
      },
      "outputs": [
        {
          "name": "stderr",
          "output_type": "stream",
          "text": [
            "/usr/local/lib/python3.10/dist-packages/torchvision/models/_utils.py:208: UserWarning: The parameter 'pretrained' is deprecated since 0.13 and may be removed in the future, please use 'weights' instead.\n",
            "  warnings.warn(\n",
            "/usr/local/lib/python3.10/dist-packages/torchvision/models/_utils.py:223: UserWarning: Arguments other than a weight enum or `None` for 'weights' are deprecated since 0.13 and may be removed in the future. The current behavior is equivalent to passing `weights=ResNeXt50_32X4D_Weights.IMAGENET1K_V1`. You can also use `weights=ResNeXt50_32X4D_Weights.DEFAULT` to get the most up-to-date weights.\n",
            "  warnings.warn(msg)\n"
          ]
        },
        {
          "name": "stdout",
          "output_type": "stream",
          "text": [
            "/content/drive/MyDrive/REAL_videos/zxacihctqp.mp4\n"
          ]
        },
        {
          "name": "stderr",
          "output_type": "stream",
          "text": [
            "/usr/local/lib/python3.10/dist-packages/torch/nn/modules/module.py:1532: UserWarning: Implicit dimension choice for softmax has been deprecated. Change the call to include dim=X as an argument.\n",
            "  return self._call_impl(*args, **kwargs)\n",
            "WARNING:matplotlib.image:Clipping input data to the valid range for imshow with RGB data ([0..1] for floats or [0..255] for integers).\n"
          ]
        },
        {
          "name": "stdout",
          "output_type": "stream",
          "text": [
            "confidence of prediction: 99.99990463256836\n"
          ]
        },
        {
          "data": {
            "image/png": "[encoded data removed]",
            "text/plain": [
              "<Figure size 640x480 with 1 Axes>"
            ]
          },
          "metadata": {},
          "output_type": "display_data"
        },
        {
          "name": "stdout",
          "output_type": "stream",
          "text": [
            "REAL\n"
          ]
        }
      ],
      "source": [
        "#Code for making prediction\n",
        "im_size = 112\n",
        "mean=[0.485, 0.456, 0.406]\n",
        "std=[0.229, 0.224, 0.225]\n",
        "\n",
        "train_transforms = transforms.Compose([\n",
        "                      transforms.ToPILImage(),\n",
        "                      transforms.Resize((im_size, im_size)),\n",
        "                      transforms.ToTensor(),\n",
        "                      transforms.Normalize(mean, std)])\n",
        "\n",
        "# path_to_videos = ['/content/drive/My Drive/Balanced_Face_only_data/aagfhgtpmv.mp4',\n",
        "#                   '/content/drive/My Drive/Balanced_Face_only_data/aczrgyricp.mp4',\n",
        "#                   '/content/drive/My Drive/Balanced_Face_only_data/agdkmztvby.mp4',\n",
        "#                   '/content/drive/My Drive/Balanced_Face_only_data/abarnvbtwb.mp4']\n",
        "\n",
        "# path_to_videos = ['/content/drive/My Drive/Youtube_Face_only_data/000_003.mp4',\n",
        "#                   '/content/drive/My Drive/Youtube_Face_only_data/000.mp4',\n",
        "#                   '/content/drive/My Drive/Youtube_Face_only_data/002_006.mp4',\n",
        "#                   '/content/drive/My Drive/Youtube_Face_only_data/002.mp4']\n",
        "\n",
        "path_to_videos= [\"/content/drive/MyDrive/REAL_videos/zxacihctqp.mp4\"]\n",
        "\n",
        "video_dataset = validation_dataset(path_to_videos,\n",
        "                                   sequence_length=20,\n",
        "                                   transform=train_transforms)\n",
        "\n",
        "\n",
        "path_to_model = '/content/drive/MyDrive/PretrainModel/model_90_acc_60_frames_final_data.pt'\n",
        "model = Model(2).cuda()\n",
        "model.load_state_dict(torch.load(path_to_model))\n",
        "model.eval()\n",
        "\n",
        "\n",
        "for i in range(0, len(path_to_videos)):\n",
        "    print(path_to_videos[i])\n",
        "    prediction = predict(model, video_dataset[i], './')\n",
        "\n",
        "    print(\"REAL\") if prediction[0] == 1 else print(\"FAKE\")"
      ]
    }
  ],
  "metadata": {
    "accelerator": "GPU",
    "colab": {
      "gpuType": "T4",
      "provenance": []
    },
    "kernelspec": {
      "display_name": "Python 3",
      "name": "python3"
    },
    "language_info": {
      "name": "python"
    }
  },
  "nbformat": 4,
  "nbformat_minor": 0
}
